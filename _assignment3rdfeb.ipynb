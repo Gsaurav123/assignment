{
 "cells": [
  {
   "cell_type": "code",
   "execution_count": 1,
   "id": "fc8c50fd-4f80-4641-a1f4-b218438bf317",
   "metadata": {},
   "outputs": [
    {
     "ename": "SyntaxError",
     "evalue": "invalid syntax (2980204124.py, line 3)",
     "output_type": "error",
     "traceback": [
      "\u001b[0;36m  Cell \u001b[0;32mIn[1], line 3\u001b[0;36m\u001b[0m\n\u001b[0;31m    ans:-\u001b[0m\n\u001b[0m         ^\u001b[0m\n\u001b[0;31mSyntaxError\u001b[0m\u001b[0;31m:\u001b[0m invalid syntax\n"
     ]
    }
   ],
   "source": [
    "#Q1. Which keyword is used to create a function? Create a function to return a list of odd numbers in the \n",
    "#range of 1 to 25.\n",
    "ans:-\n",
    "def\n",
    "\n",
    "\n",
    "def test(a):\n",
    "    for i in a:\n",
    "        if i%2 != 0:\n",
    "            a.append(i)\n",
    "        else:\n",
    "            pass\n",
    "    return i  \n",
    "#Q2. Why *args and **kwargs is used in some functions? Create a function each for *args and **kwargs \n",
    "#to demonstrate their use.\n",
    "when we want to pass n number of data then we use *args.\n",
    "\n",
    "and when we want data in the form of key value pair then we use **kwargs\n",
    "\n",
    "def test(*args):\n",
    "    return args\n",
    "\n",
    "then if we call test(1,2,3,4,\"saurav\",\"sudh\") then it will give us (1,2,3,4,\"saurav\",\"sudh\") \n",
    "\n",
    "def test1(**kwargs):\n",
    "    return kwargs\n",
    "\n",
    "after ths if we call test1(a=\"saurav\",b=4,c=5,d=\"sudh\") then we will get result in the form of key value (dict) ('a'='saurav','b'=4,'c'=5,'d'='sudh')\n",
    "    \n",
    "#Q3.  What is an iterator in python? Name the method used to initialise the iterator object and the method \n",
    "#used for iteration. Use these methods to print the first five elements of the given list [2, 4, 6, 8, 10, 12, 14, \n",
    "#16, 18, 20]\n",
    "\n",
    "ans:- an iterator is a object that contains countable number of values. method use for initialise iterator is iter() and the method use for iteration is next().\n",
    "\n",
    "l = [2, 4, 6, 8, 10, 12, 14, 16, 18, 20]\n",
    "for i in l:\n",
    "    if i < l[5]:\n",
    "        print(i)\n",
    "and\n",
    "l = [2, 4, 6, 8, 10, 12, 14, 16, 18, 20]\n",
    "s = iter(l)\n",
    "next(s)\n",
    "next(s)\n",
    "next(s)\n",
    "next(s)\n",
    "next(s)\n",
    "\n",
    "#Q4.  What is a generator function in python? Why yield keyword is used? Give an example of a generator function.\n",
    "\n",
    "In Python, a generator is a function that returns an iterator that produces a sequence of values when iterated over. Generators are useful when we want to produce a large sequence of values, but we don't want to store all of them in memory at once.   \n",
    " The yield statement returns a generator object to the one who calls the function which contains yield, instead of simply returning a value. \n",
    " def test1(n):\n",
    "    count = 1\n",
    "    while count<n:\n",
    "        yield count\n",
    "        count+=1\n",
    "c = test1(n)\n",
    "\n",
    "for i in c:\n",
    "    print(i)\n",
    "#Q5. Create a generator function for prime numbers less than 1000. Use the next() method to print the first 20 prime numbers.\n",
    "n = int(input(\"enter the number\"))\n",
    "#Q6. Write a python program to print the first 10 Fibonacci numbers using a while loop.\n",
    "a,b = 0,1\n",
    "counter = 0\n",
    "while  counter <= 10:\n",
    "    print(a)\n",
    "    c  = a+b\n",
    "    a = b\n",
    "    b = c\n",
    "    counter  = counter+1\n",
    "\n",
    "#Q7. Write a List Comprehension to iterate through the given string: ‘pwskills’.\n",
    "#Expected output: ['p', 'w', 's', 'k', 'i', 'l', 'l', 's']\n",
    "s = \"pwskills\"\n",
    "[i for in s]\n",
    "\n",
    "#Q8. Write a python program to check whether a given number is Palindrome or not using a while loop.\n",
    "\n",
    "\n",
    "\n",
    "\n",
    "\n",
    "#Q9. Write a code to print odd numbers from 1 to 100 using list comprehension.\n",
    "#Note: Use a list comprehension to create a list from 1 to 100 and use another List comprehension to filter \n",
    "#out odd numbers\n",
    "l1 = list(range(1,101))\n",
    "[i for i in l1 if i%2 != 0]\n",
    "\n",
    "    \n",
    "\n",
    "        \n"
   ]
  },
  {
   "cell_type": "code",
   "execution_count": 24,
   "id": "a2357854-7ef0-4946-a0c8-d8b263d7b050",
   "metadata": {},
   "outputs": [
    {
     "name": "stdout",
     "output_type": "stream",
     "text": [
      "2\n",
      "4\n",
      "6\n",
      "8\n",
      "10\n"
     ]
    }
   ],
   "source": []
  },
  {
   "cell_type": "code",
   "execution_count": 33,
   "id": "41122e27-17c0-4550-8492-2f54112166b7",
   "metadata": {},
   "outputs": [],
   "source": []
  },
  {
   "cell_type": "code",
   "execution_count": 27,
   "id": "37174db6-4783-4923-83cc-fe64a57e57a2",
   "metadata": {},
   "outputs": [
    {
     "data": {
      "text/plain": [
       "2"
      ]
     },
     "execution_count": 27,
     "metadata": {},
     "output_type": "execute_result"
    }
   ],
   "source": []
  },
  {
   "cell_type": "code",
   "execution_count": 28,
   "id": "0ed8394e-d5f4-42fa-a933-c70b7371e3c2",
   "metadata": {},
   "outputs": [
    {
     "data": {
      "text/plain": [
       "4"
      ]
     },
     "execution_count": 28,
     "metadata": {},
     "output_type": "execute_result"
    }
   ],
   "source": []
  },
  {
   "cell_type": "code",
   "execution_count": 29,
   "id": "b6e72ebf-8f50-4f07-99a1-4147a1a3ab84",
   "metadata": {},
   "outputs": [
    {
     "data": {
      "text/plain": [
       "6"
      ]
     },
     "execution_count": 29,
     "metadata": {},
     "output_type": "execute_result"
    }
   ],
   "source": []
  },
  {
   "cell_type": "code",
   "execution_count": 30,
   "id": "5912d006-7b70-431c-b213-6035368e30d0",
   "metadata": {},
   "outputs": [
    {
     "data": {
      "text/plain": [
       "8"
      ]
     },
     "execution_count": 30,
     "metadata": {},
     "output_type": "execute_result"
    }
   ],
   "source": []
  },
  {
   "cell_type": "code",
   "execution_count": 31,
   "id": "7af40699-fd04-4b76-b60b-1fb424ad790b",
   "metadata": {},
   "outputs": [
    {
     "data": {
      "text/plain": [
       "10"
      ]
     },
     "execution_count": 31,
     "metadata": {},
     "output_type": "execute_result"
    }
   ],
   "source": []
  }
 ],
 "metadata": {
  "kernelspec": {
   "display_name": "Python 3 (ipykernel)",
   "language": "python",
   "name": "python3"
  },
  "language_info": {
   "codemirror_mode": {
    "name": "ipython",
    "version": 3
   },
   "file_extension": ".py",
   "mimetype": "text/x-python",
   "name": "python",
   "nbconvert_exporter": "python",
   "pygments_lexer": "ipython3",
   "version": "3.10.8"
  }
 },
 "nbformat": 4,
 "nbformat_minor": 5
}
